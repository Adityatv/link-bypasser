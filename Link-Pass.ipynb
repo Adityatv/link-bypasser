{
  "nbformat": 4,
  "nbformat_minor": 0,
  "metadata": {
    "colab": {
      "name": "Link Bypasser/DL Generator",
      "provenance": [],
      "include_colab_link": true
    },
    "kernelspec": {
      "name": "python3",
      "display_name": "Python 3"
    },
    "language_info": {
      "name": "python"
    }
  },
  "cells": [
    {
      "cell_type": "markdown",
      "metadata": {
        "id": "view-in-github",
        "colab_type": "text"
      },
      "source": [
        "<a href=\"https://colab.research.google.com/github/JohnWickKeanue/Link-Bypasser/blob/main/Link-Pass.ipynb\" target=\"_parent\"><img src=\"https://colab.research.google.com/assets/colab-badge.svg\" alt=\"Open In Colab\"/></a>"
      ]
    },
    {
      "cell_type": "markdown",
      "source": [
        "**Enter AdFly Link Below!**"
      ],
      "metadata": {
        "id": "rWggyWOjc2vK"
      }
    },
    {
      "cell_type": "code",
      "source": [
        "#@markdown <center><img src='https://bit.ly/3zMaLOK' height=\"100\">\n",
        "#@title <b><center>Enter AdFly Link Below</center></b>\n",
        "print(\"Downloading Cloud-Scraper...\")\n",
        "!pip install cloudscraper\n",
        "print(\"Importing Files!\")\n",
        "import cloudscraper\n",
        "import re\n",
        "from base64 import b64decode\n",
        "from urllib.parse import unquote\n",
        "\n",
        "# ==========================================\n",
        "\n",
        "url = \"\" #@param {type:\"string\"}\n",
        "print(\"You Have Entered:\")\n",
        "print(url)\n",
        "print(\"Checking Link...\")\n",
        "'''\n",
        "404: Complete exception handling not found :(\n",
        "'''\n",
        "print(\"Bypassing Link...\")\n",
        "# ==========================================\n",
        "\n",
        "def decrypt_url(code):\n",
        "    a, b = '', ''\n",
        "    for i in range(0, len(code)):\n",
        "        if i % 2 == 0: a += code[i]\n",
        "        else: b = code[i] + b\n",
        "    key = list(a + b)\n",
        "    i = 0\n",
        "    while i < len(key):\n",
        "        if key[i].isdigit():\n",
        "            for j in range(i+1,len(key)):\n",
        "                if key[j].isdigit():\n",
        "                    u = int(key[i]) ^ int(key[j])\n",
        "                    if u < 10: key[i] = str(u)\n",
        "                    i = j                   \n",
        "                    break\n",
        "        i+=1\n",
        "    key = ''.join(key)\n",
        "    decrypted = b64decode(key)[16:-16]\n",
        "    return decrypted.decode('utf-8')\n",
        "\n",
        "# ==========================================\n",
        "\n",
        "def adfly(url):\n",
        "    client = cloudscraper.create_scraper(allow_brotli=False)\n",
        "    res = client.get(url).text\n",
        "    out = {'error': False, 'src_url': url}\n",
        "    try:\n",
        "        ysmm = re.findall(\"ysmm\\s+=\\s+['|\\\"](.*?)['|\\\"]\", res)[0]\n",
        "    except:\n",
        "        out['error'] = True\n",
        "        return out\n",
        "    url = decrypt_url(ysmm)\n",
        "    if re.search(r'go\\.php\\?u\\=', url):\n",
        "        url = b64decode(re.sub(r'(.*?)u=', '', url)).decode()\n",
        "    elif '&dest=' in url:\n",
        "        url = unquote(re.sub(r'(.*?)dest=', '', url))\n",
        "    out['bypassed_url'] = url\n",
        "    return out\n",
        "\n",
        "# ==========================================\n",
        "\n",
        "res = adfly(url)\n",
        "\n",
        "print(res)\n",
        "print(\"Successfully Bypassed!\")"
      ],
      "metadata": {
        "id": "NRE5wW9wc85c",
        "cellView": "form"
      },
      "execution_count": null,
      "outputs": []
    },
    {
      "cell_type": "markdown",
      "source": [
        "**Enter GPLinks Link Below!**"
      ],
      "metadata": {
        "id": "vIuY_F5gVVm2"
      }
    },
    {
      "cell_type": "code",
      "source": [],
      "metadata": {
        "id": "PHCG2iGQgDhz",
        "cellView": "form"
      },
      "execution_count": null,
      "outputs": []
    },
    {
      "cell_type": "markdown",
      "source": [
        "**Enter GDTot Link as well as your GDTot Crypt! If you don't know how to get Crypt then <a href=\"https://www.youtube.com/watch?v=EfZ29CotRSU\">Learn Here</a>**"
      ],
      "metadata": {
        "id": "cyBiaGkAUtLi"
      }
    },
    {
      "cell_type": "code",
      "source": [],
      "metadata": {
        "id": "pJCdd8LESBAk",
        "cellView": "form"
      },
      "execution_count": null,
      "outputs": []
    },
    {
      "cell_type": "markdown",
      "source": [
        "**Enter Sharer.pw Link, XSRF_TOKEN and laravel_session cookies! If you don't know how to get then then watch this <a href=\"https://www.youtube.com/watch?v=EfZ29CotRSU\">Video</a> (for GDTOT) and do the same for Sharer.pw**"
      ],
      "metadata": {
        "id": "JlOUDYIzlLTD"
      }
    },
    {
      "cell_type": "code",
      "source": [],
      "metadata": {
        "id": "jY_RrpdYiTqj",
        "cellView": "form"
      },
      "execution_count": null,
      "outputs": []
    },
    {
      "cell_type": "markdown",
      "source": [
        "**Enter DropLink Below!**"
      ],
      "metadata": {
        "id": "2PlnCgEllyT7"
      }
    },
    {
      "cell_type": "code",
      "source": [],
      "metadata": {
        "id": "611_HcrXfOOr",
        "cellView": "form"
      },
      "execution_count": null,
      "outputs": []
    },
    {
      "cell_type": "markdown",
      "source": [
        "**Enter AppDrive or DriveApp etc. Look-Alike Link and as well as the Account Details (Required for Login Required Links only)**"
      ],
      "metadata": {
        "id": "WlRAIhcUoVHb"
      }
    },
    {
      "cell_type": "code",
      "source": [],
      "metadata": {
        "id": "0vqE8a8dm5T4",
        "cellView": "form"
      },
      "execution_count": null,
      "outputs": []
    },
    {
      "cell_type": "markdown",
      "source": [
        "**Enter Linkvertise Link Below!**"
      ],
      "metadata": {
        "id": "OY1CtzT0pA8u"
      }
    },
    {
      "cell_type": "code",
      "source": [],
      "metadata": {
        "id": "4yV_DpjXpBXj",
        "cellView": "form"
      },
      "execution_count": null,
      "outputs": []
    },
    {
      "cell_type": "markdown",
      "source": [
        "**Enter MDisk Link Below!**"
      ],
      "metadata": {
        "id": "fvzqOzXVR7jX"
      }
    },
    {
      "cell_type": "code",
      "source": [],
      "metadata": {
        "id": "WXQH2_YlSDkH",
        "cellView": "form"
      },
      "execution_count": null,
      "outputs": []
    },
    {
      "cell_type": "markdown",
      "source": [
        "**Enter RockLinks Link Below!**"
      ],
      "metadata": {
        "id": "IVaFnZycUqSY"
      }
    },
    {
      "cell_type": "code",
      "source": [
        "#@markdown <center><img src='https://bit.ly/3OGBD6Q' height=\"70\">\n",
        "#@title <b><center>Enter Rocklinks-Link Below</center></b>\n",
        "print(\"Downloading Cloud-Scraper...\")\n",
        "!pip install cloudscraper\n",
        "print(\"Setting Up!\")\n",
        "print(\"Performing Check...\")\n",
        "import time\n",
        "import cloudscraper\n",
        "from bs4 import BeautifulSoup \n",
        "print(\"Everything Looks Good! Lets Continue.\")\n",
        "\n",
        "url = \"\"  #@param {type:\"string\"}\n",
        "\n",
        " \n",
        "\n",
        "# ---------------------------------------------------------------------------------------------------------------------\n",
        "\n",
        "def bypass(url):\n",
        "    client = cloudscraper.create_scraper(allow_brotli=False)\n",
        "    if 'rocklinks.net' in url:\n",
        "        DOMAIN = \"https://blog.disheye.com\"\n",
        "    else:\n",
        "        DOMAIN = \"https://rocklinks.net\"\n",
        "\n",
        "    url = url[:-1] if url[-1] == '/' else url\n",
        "\n",
        "    code = url.split(\"/\")[-1]\n",
        "    if 'rocklinks.net' in url:\n",
        "        final_url = f\"{DOMAIN}/{code}?quelle=\" \n",
        "    else:\n",
        "        final_url = f\"{DOMAIN}/{code}\"\n",
        "\n",
        "    resp = client.get(final_url)\n",
        "    soup = BeautifulSoup(resp.content, \"html.parser\")\n",
        "    \n",
        "    try: inputs = soup.find(id=\"go-link\").find_all(name=\"input\")\n",
        "    except: return \"Incorrect Link\"\n",
        "    \n",
        "    data = { input.get('name'): input.get('value') for input in inputs }\n",
        "\n",
        "    h = { \"x-requested-with\": \"XMLHttpRequest\" }\n",
        "    \n",
        "    time.sleep(10)\n",
        "    r = client.post(f\"{DOMAIN}/links/go\", data=data, headers=h)\n",
        "    try:\n",
        "        return r.json()['url']\n",
        "    except: return \"Something went wrong :(\"\n",
        "\n",
        "# ---------------------------------------------------------------------------------------------------------------------\n",
        "res = bypass(url)\n",
        "\n",
        "print(res)\n",
        "print(\"Successfully Bypassed!\")"
      ],
      "metadata": {
        "id": "bG5bvLAxUui3",
        "cellView": "form"
      },
      "execution_count": null,
      "outputs": []
    },
    {
      "cell_type": "markdown",
      "source": [
        "**Enter PixelDrain Link Below!**"
      ],
      "metadata": {
        "id": "VvNupVRQwRIh"
      }
    },
    {
      "cell_type": "code",
      "source": [],
      "metadata": {
        "id": "31TfucycwWaQ",
        "cellView": "form"
      },
      "execution_count": null,
      "outputs": []
    },
    {
      "cell_type": "markdown",
      "source": [
        "**Enter WeTransfer Link Below!**"
      ],
      "metadata": {
        "id": "U385CJEoxl0O"
      }
    },
    {
      "cell_type": "code",
      "source": [],
      "metadata": {
        "id": "-DDkk6qaxpst",
        "cellView": "form"
      },
      "execution_count": null,
      "outputs": []
    },
    {
      "cell_type": "markdown",
      "source": [
        "**Enter MegaUp Link Below!**"
      ],
      "metadata": {
        "id": "cGsBdNPLzE4I"
      }
    },
    {
      "cell_type": "code",
      "source": [
        "#@markdown <center><img src='https://i.imgur.com/KbPSI7o.png' height=\"50\">\n",
        "#@title <b><center>Enter MegaUp-Link Below</center></b>\n",
        "print(\"Downloading Cloud-Scraper...\")\n",
        "!pip install cloudscraper\n",
        "print(\"Importing Files!\")\n",
        "import cloudscraper\n",
        "\n",
        "url = \"\" #@param {type:\"string\"}\n",
        "print(\"You have Entered:\")\n",
        "print(\"URL:\")\n",
        "print(url)\n",
        "print(\"Generating Direct-Download Link...\")\n",
        "# -------------------------------------------\n",
        "\n",
        "def megaup(url):\n",
        "    api = \"https://api.emilyx.in/api\"\n",
        "    client = cloudscraper.create_scraper(allow_brotli=False)\n",
        "    resp = client.get(url)\n",
        "    if resp.status_code == 404:\n",
        "        return \"File not found/The link you entered is wrong!\"\n",
        "    try:\n",
        "        resp = client.post(api, json={\"type\": \"megaup\", \"url\": url})\n",
        "        res = resp.json()\n",
        "    except BaseException:\n",
        "        return \"API UnResponsive / Invalid Link !\"\n",
        "    if res[\"success\"] is True:\n",
        "        return res[\"url\"]\n",
        "    else:\n",
        "        return res[\"msg\"]\n",
        "\n",
        "# -------------------------------------------\n",
        "\n",
        "res = megaup(url)\n",
        "\n",
        "print(res)\n",
        "print(\"Successfully Generated Direct-Download Link!\")"
      ],
      "metadata": {
        "id": "jZYIX9-SzKHJ",
        "cellView": "form"
      },
      "execution_count": null,
      "outputs": []
    },
    {
      "cell_type": "markdown",
      "source": [
        "**Enter Gyanilinks Link Below!**"
      ],
      "metadata": {
        "id": "mEM-1BGX5yXl"
      }
    },
    {
      "cell_type": "code",
      "source": [
        "#@markdown <center><img src='https://bit.ly/3dtPz7B' height=\"50\">\n",
        "#@title <b><center>Enter gyanilinks Link Below</center></b>\n",
        "print(\"Downloading Cloud-Scraper...\")\n",
        "!pip install cloudscraper\n",
        "print(\"Setting Up!\")\n",
        "print(\"Performing Check...\")\n",
        "import time\n",
        "import cloudscraper\n",
        "from bs4 import BeautifulSoup \n",
        "print(\"Everything Looks Good! Lets Continue.\")\n",
        "\n",
        "url = \"\"  #@param {type:\"string\"}\n",
        "\n",
        "\n",
        "'''\n",
        "NOTE: \n",
        "SUPPORTED DOMAINS:\n",
        " - gtlinks.me\n",
        " \n",
        "'''\n",
        "# ---------------------------------------------------------------------------------------------------------------------\n",
        "\n",
        "def bypass(url):\n",
        "    client = cloudscraper.create_scraper(allow_brotli=False)\n",
        "    if 'gtlinks.me' in url:\n",
        "        DOMAIN = \"https://go.bloggertheme.xyz\"\n",
        "    else:\n",
        "        return \"Incorrect Link\"\n",
        "\n",
        "    url = url[:-1] if url[-1] == '/' else url\n",
        "\n",
        "    code = url.split(\"/\")[-1]\n",
        "    if 'rocklinks.net' in url:\n",
        "        final_url = f\"{DOMAIN}/{code}?quelle=\" \n",
        "    else:\n",
        "        final_url = f\"{DOMAIN}/{code}\"\n",
        "\n",
        "    resp = client.get(final_url)\n",
        "    soup = BeautifulSoup(resp.content, \"html.parser\")\n",
        "    \n",
        "    try: inputs = soup.find(id=\"go-link\").find_all(name=\"input\")\n",
        "    except: return \"Incorrect Link\"\n",
        "    \n",
        "    data = { input.get('name'): input.get('value') for input in inputs }\n",
        "\n",
        "    h = { \"x-requested-with\": \"XMLHttpRequest\" }\n",
        "    \n",
        "    time.sleep(5)\n",
        "    r = client.post(f\"{DOMAIN}/links/go\", data=data, headers=h)\n",
        "    try:\n",
        "        return r.json()['url']\n",
        "    except: return \"Something went wrong :(\"\n",
        "\n",
        "# ---------------------------------------------------------------------------------------------------------------------\n",
        "\n",
        "res = bypass(url)\n",
        "\n",
        "print(res)\n",
        "print(\"Successfully Bypassed!\")"
      ],
      "metadata": {
        "id": "_iWf_OF9jOKq",
        "cellView": "form"
      },
      "execution_count": null,
      "outputs": []
    },
    {
      "cell_type": "markdown",
      "source": [
        "**Enter Shortingly Link Below!**"
      ],
      "metadata": {
        "id": "Z-w5ABr55oVG"
      }
    },
    {
      "cell_type": "code",
      "source": [
        "#@markdown <center><img src='https://bit.ly/3xGni4I' height=\"50\">\n",
        "#@title <b><center>Enter shortingly Link Below</center></b>\n",
        "print(\"Downloading Cloud-Scraper...\")\n",
        "!pip install cloudscraper\n",
        "print(\"Setting Up!\")\n",
        "print(\"Performing Check...\")\n",
        "import time\n",
        "import cloudscraper\n",
        "from bs4 import BeautifulSoup \n",
        "print(\"Everything Looks Good! Lets Continue.\")\n",
        "\n",
        "url = \"\"  #@param {type:\"string\"}\n",
        "\n",
        "\n",
        "'''\n",
        "NOTE: \n",
        "SUPPORTED DOMAINS:\n",
        " - shortingly.me\n",
        " \n",
        "'''\n",
        "# ---------------------------------------------------------------------------------------------------------------------\n",
        "\n",
        "def bypass(url):\n",
        "    client = cloudscraper.create_scraper(allow_brotli=False)\n",
        "    if 'shortingly.me' in url:\n",
        "        DOMAIN = \"https://go.techyjeeshan.xyz\"\n",
        "    else:\n",
        "        return \"Incorrect Link\"\n",
        "\n",
        "    url = url[:-1] if url[-1] == '/' else url\n",
        "\n",
        "    code = url.split(\"/\")[-1]\n",
        "    if 'rocklinks.net' in url:\n",
        "        final_url = f\"{DOMAIN}/{code}?quelle=\" \n",
        "    else:\n",
        "        final_url = f\"{DOMAIN}/{code}\"\n",
        "\n",
        "    resp = client.get(final_url)\n",
        "    soup = BeautifulSoup(resp.content, \"html.parser\")\n",
        "    \n",
        "    try: inputs = soup.find(id=\"go-link\").find_all(name=\"input\")\n",
        "    except: return \"Incorrect Link\"\n",
        "    \n",
        "    data = { input.get('name'): input.get('value') for input in inputs }\n",
        "\n",
        "    h = { \"x-requested-with\": \"XMLHttpRequest\" }\n",
        "    \n",
        "    time.sleep(5)\n",
        "    r = client.post(f\"{DOMAIN}/links/go\", data=data, headers=h)\n",
        "    try:\n",
        "        return r.json()['url']\n",
        "    except: return \"Something went wrong :(\"\n",
        "\n",
        "# ---------------------------------------------------------------------------------------------------------------------\n",
        "\n",
        "res = bypass(url)\n",
        "\n",
        "print(res)\n",
        "print(\"Successfully Bypassed!\")"
      ],
      "metadata": {
        "id": "VLQNAB35oAGZ",
        "cellView": "form"
      },
      "execution_count": null,
      "outputs": []
    }
  ]
}